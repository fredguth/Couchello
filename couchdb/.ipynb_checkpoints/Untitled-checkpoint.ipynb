{
 "cells": [
  {
   "cell_type": "code",
   "execution_count": 1,
   "id": "0483c900",
   "metadata": {},
   "outputs": [],
   "source": [
    "import pandas as pd\n",
    "import rstr\n",
    "from faker import Faker\n",
    "from faker_e164.providers import E164Provider\n",
    "fake = Faker()\n",
    "fake.add_provider(E164Provider)\n",
    "from datetime import datetime, date\n",
    "import random\n",
    "import hashlib"
   ]
  },
  {
   "cell_type": "code",
   "execution_count": 5,
   "id": "b2409836",
   "metadata": {},
   "outputs": [],
   "source": [
    "def hash(name, size=10):\n",
    "    if name is None: return False\n",
    "    return hashlib.md5(name.encode('utf-8')).hexdigest()[:size]"
   ]
  },
  {
   "cell_type": "code",
   "execution_count": null,
   "id": "ac7059f3",
   "metadata": {},
   "outputs": [],
   "source": []
  },
  {
   "cell_type": "code",
   "execution_count": null,
   "id": "52b341fa",
   "metadata": {},
   "outputs": [],
   "source": []
  },
  {
   "cell_type": "code",
   "execution_count": 6,
   "id": "919f633c",
   "metadata": {},
   "outputs": [
    {
     "data": {
      "text/plain": [
       "'8fa14cdd75'"
      ]
     },
     "execution_count": 6,
     "metadata": {},
     "output_type": "execute_result"
    }
   ],
   "source": [
    "hash(\"f\")"
   ]
  },
  {
   "cell_type": "code",
   "execution_count": 2,
   "id": "c509f675",
   "metadata": {},
   "outputs": [],
   "source": [
    "def genId(prefix=\"\", size=8):\n",
    "    return prefix+''.join( rstr.xeger(r'[A-Z0-9]') for i in range(size))"
   ]
  },
  {
   "cell_type": "code",
   "execution_count": 9,
   "id": "bf2e68ac",
   "metadata": {},
   "outputs": [],
   "source": [
    "def createBootstrap(size=10):\n",
    "    data = {\n",
    "          \"_config\": {},\n",
    "          \"couchello_db\": {\n",
    "            \"_design\": {},\n",
    "            \"_local\": {},\n",
    "          }\n",
    "    }\n",
    "    _security = {\n",
    "      \"members\": {\n",
    "        \"roles\": [],\n",
    "        \"names\": []\n",
    "      },\n",
    "      \"admins\": {\n",
    "        \"roles\": [],\n",
    "        \"names\": []\n",
    "      }\n",
    "    }\n",
    "    _users = {}\n",
    "    g = {'Admin':'admins', 'Member':'members'}\n",
    "    for _ in range(size):\n",
    "        _id = genId()\n",
    "        user={}\n",
    "        user['_id']= _id\n",
    "        user['type']= 'user'\n",
    "        user['password']=_id\n",
    "        role = random.choice(['Admin', 'Member'])\n",
    "        user['role']=role\n",
    "        user['name']=fake.name()\n",
    "        _security[g[role]]['names'].append(_id)\n",
    "        _users[_id]=user\n",
    "    data['couchello_db']['_security']=_security\n",
    "    data['_users']=_users\n",
    "    return data"
   ]
  },
  {
   "cell_type": "code",
   "execution_count": 8,
   "id": "9220bb0b",
   "metadata": {},
   "outputs": [
    {
     "data": {
      "text/plain": [
       "{'_config': {},\n",
       " 'couchello_db': {'_design': {},\n",
       "  '_local': {},\n",
       "  '_security': {'members': {'roles': [],\n",
       "    'names': ['OTV0RKSZ',\n",
       "     'RI09XEM2',\n",
       "     'RNW2UUKS',\n",
       "     '8MABNLGW',\n",
       "     'GZ33XWFZ',\n",
       "     'CRO8UX05']},\n",
       "   'admins': {'roles': [],\n",
       "    'names': ['IR3VNCK1', 'DPVO6SOW', 'AWMW7FAS', '9TSGYUJH']}}},\n",
       " '_users': {'IR3VNCK1': {'_id': 'IR3VNCK1',\n",
       "   'type': 'User',\n",
       "   'password': 'IR3VNCK1',\n",
       "   'role': 'Admin',\n",
       "   'name': 'Dana Thompson'},\n",
       "  'OTV0RKSZ': {'_id': 'OTV0RKSZ',\n",
       "   'type': 'User',\n",
       "   'password': 'OTV0RKSZ',\n",
       "   'role': 'Member',\n",
       "   'name': 'Mark Stephens'},\n",
       "  'RI09XEM2': {'_id': 'RI09XEM2',\n",
       "   'type': 'User',\n",
       "   'password': 'RI09XEM2',\n",
       "   'role': 'Member',\n",
       "   'name': 'Todd Vincent'},\n",
       "  'DPVO6SOW': {'_id': 'DPVO6SOW',\n",
       "   'type': 'User',\n",
       "   'password': 'DPVO6SOW',\n",
       "   'role': 'Admin',\n",
       "   'name': 'Barry Jefferson'},\n",
       "  'AWMW7FAS': {'_id': 'AWMW7FAS',\n",
       "   'type': 'User',\n",
       "   'password': 'AWMW7FAS',\n",
       "   'role': 'Admin',\n",
       "   'name': 'Joshua Hoffman'},\n",
       "  'RNW2UUKS': {'_id': 'RNW2UUKS',\n",
       "   'type': 'User',\n",
       "   'password': 'RNW2UUKS',\n",
       "   'role': 'Member',\n",
       "   'name': 'Joseph Stark'},\n",
       "  '8MABNLGW': {'_id': '8MABNLGW',\n",
       "   'type': 'User',\n",
       "   'password': '8MABNLGW',\n",
       "   'role': 'Member',\n",
       "   'name': 'Albert Wood'},\n",
       "  'GZ33XWFZ': {'_id': 'GZ33XWFZ',\n",
       "   'type': 'User',\n",
       "   'password': 'GZ33XWFZ',\n",
       "   'role': 'Member',\n",
       "   'name': 'David Acevedo'},\n",
       "  '9TSGYUJH': {'_id': '9TSGYUJH',\n",
       "   'type': 'User',\n",
       "   'password': '9TSGYUJH',\n",
       "   'role': 'Admin',\n",
       "   'name': 'Jason Willis'},\n",
       "  'CRO8UX05': {'_id': 'CRO8UX05',\n",
       "   'type': 'User',\n",
       "   'password': 'CRO8UX05',\n",
       "   'role': 'Member',\n",
       "   'name': 'Barbara Jones'}}}"
      ]
     },
     "execution_count": 8,
     "metadata": {},
     "output_type": "execute_result"
    }
   ],
   "source": [
    "createBootstrap()"
   ]
  },
  {
   "cell_type": "code",
   "execution_count": null,
   "id": "48facff4",
   "metadata": {},
   "outputs": [],
   "source": []
  },
  {
   "cell_type": "code",
   "execution_count": null,
   "id": "91047968",
   "metadata": {},
   "outputs": [],
   "source": [
    "_s"
   ]
  },
  {
   "cell_type": "code",
   "execution_count": null,
   "id": "7e8a10bc",
   "metadata": {},
   "outputs": [],
   "source": [
    "def createAdminPerson():\n",
    "    id = genId()\n",
    "    return {\n",
    "        'type':'Person',\n",
    "        'role':'Admin',\n",
    "        'name': fake.name(),\n",
    "        'phone': fake.safe_e164(),\n",
    "        'avatarUrl': 'https://i.pravatar.cc/150?u='+id,\n",
    "        'userId':\"org.couchdb.user:\"+id,\n",
    "        'issues':[],\n",
    "        'createdAt': datetime.now().isoformat(),\n",
    "        'deletedAt':False,\n",
    "        'updatedAt':False\n",
    "    }"
   ]
  },
  {
   "cell_type": "code",
   "execution_count": null,
   "id": "98131626",
   "metadata": {},
   "outputs": [],
   "source": [
    "adminPerson = createAdminPerson()"
   ]
  },
  {
   "cell_type": "code",
   "execution_count": null,
   "id": "b6be5289",
   "metadata": {},
   "outputs": [],
   "source": [
    "def createAdminUser(admin=None):\n",
    "    if admin is None: return False\n",
    "    return {\n",
    "        'type':'User',\n",
    "        'role':'Admin',\n",
    "        'name': admin['name'],\n",
    "        '_id':admin['userId'],\n",
    "        'password':'1234'\n",
    "\n",
    "    }\n",
    "\n",
    "    "
   ]
  },
  {
   "cell_type": "code",
   "execution_count": null,
   "id": "5682fceb",
   "metadata": {},
   "outputs": [],
   "source": [
    "admin = createAdminUser(adminPerson)"
   ]
  },
  {
   "cell_type": "code",
   "execution_count": null,
   "id": "2806d20b",
   "metadata": {},
   "outputs": [],
   "source": [
    "def createUsers(size=6):\n",
    "    _users = {}\n",
    "    for i in range(size):\n",
    "        id = genId()\n",
    "        _users[id]={\n",
    "            'type':'User',\n",
    "            'role':'Member',\n",
    "            'name': fake.name(),\n",
    "            '_id':\"org.couchdb.user:\"+genId(),\n",
    "            'password':'1234'}\n",
    "    return _users"
   ]
  },
  {
   "cell_type": "code",
   "execution_count": null,
   "id": "00fa269e",
   "metadata": {},
   "outputs": [],
   "source": [
    "admin"
   ]
  },
  {
   "cell_type": "code",
   "execution_count": null,
   "id": "fe77fa59",
   "metadata": {},
   "outputs": [],
   "source": [
    "_users = createUsers()"
   ]
  },
  {
   "cell_type": "code",
   "execution_count": null,
   "id": "71ab7d33",
   "metadata": {},
   "outputs": [],
   "source": [
    "_users = {**admin, **_users}"
   ]
  },
  {
   "cell_type": "code",
   "execution_count": null,
   "id": "2ee75676",
   "metadata": {},
   "outputs": [],
   "source": [
    "_users"
   ]
  },
  {
   "cell_type": "code",
   "execution_count": null,
   "id": "b28d2aac",
   "metadata": {},
   "outputs": [],
   "source": [
    "_users"
   ]
  },
  {
   "cell_type": "code",
   "execution_count": null,
   "id": "3f57755f",
   "metadata": {},
   "outputs": [],
   "source": [
    "_security = {\n",
    "      \"members\": {\n",
    "        \"roles\": [],\n",
    "        \"names\": []\n",
    "      },\n",
    "      \"admins\": {\n",
    "        \"roles\": [],\n",
    "        \"names\": []\n",
    "      }\n",
    "    }"
   ]
  },
  {
   "cell_type": "code",
   "execution_count": null,
   "id": "8f9cc21e",
   "metadata": {},
   "outputs": [],
   "source": [
    "_security[]"
   ]
  },
  {
   "cell_type": "code",
   "execution_count": null,
   "id": "6e47c39c",
   "metadata": {},
   "outputs": [],
   "source": [
    "o"
   ]
  },
  {
   "cell_type": "code",
   "execution_count": null,
   "id": "4e443dd8",
   "metadata": {},
   "outputs": [],
   "source": [
    "import rstr"
   ]
  },
  {
   "cell_type": "code",
   "execution_count": null,
   "id": "76fb8994",
   "metadata": {},
   "outputs": [],
   "source": [
    "def genId(prefix=\"\", size=5):\n",
    "    return prefix+''.join( rstr.xeger(r'[a-z0-9]') for i in range(size))"
   ]
  },
  {
   "cell_type": "code",
   "execution_count": null,
   "id": "8aab4c0b",
   "metadata": {},
   "outputs": [],
   "source": [
    "genId(\"o:\", size=10)"
   ]
  },
  {
   "cell_type": "code",
   "execution_count": null,
   "id": "412665b7",
   "metadata": {},
   "outputs": [],
   "source": [
    "\"{:_}\".format(26**10)"
   ]
  },
  {
   "cell_type": "code",
   "execution_count": null,
   "id": "6d428911",
   "metadata": {},
   "outputs": [],
   "source": [
    "u"
   ]
  },
  {
   "cell_type": "code",
   "execution_count": null,
   "id": "fbd92052",
   "metadata": {},
   "outputs": [],
   "source": [
    "u._id = u._id.apply(lambda x: genId(\"org.couchdb.user:\"))"
   ]
  },
  {
   "cell_type": "code",
   "execution_count": null,
   "id": "72efb2c9",
   "metadata": {},
   "outputs": [],
   "source": [
    "u"
   ]
  },
  {
   "cell_type": "code",
   "execution_count": null,
   "id": "d226392f",
   "metadata": {},
   "outputs": [],
   "source": [
    "o.creatorId = u._id[:len(o.creatorId)]"
   ]
  },
  {
   "cell_type": "code",
   "execution_count": null,
   "id": "5a2b1ada",
   "metadata": {},
   "outputs": [],
   "source": [
    "o"
   ]
  },
  {
   "cell_type": "code",
   "execution_count": null,
   "id": "75e22fbd",
   "metadata": {},
   "outputs": [],
   "source": [
    "p"
   ]
  },
  {
   "cell_type": "code",
   "execution_count": null,
   "id": "719fbb0b",
   "metadata": {},
   "outputs": [],
   "source": [
    "p.userId[:8]=u.sample(8)._id"
   ]
  },
  {
   "cell_type": "code",
   "execution_count": null,
   "id": "6c4d8e43",
   "metadata": {},
   "outputs": [],
   "source": [
    "p.loc[p.name==\"oscar\"].userId"
   ]
  },
  {
   "cell_type": "code",
   "execution_count": null,
   "id": "552ac2fd",
   "metadata": {},
   "outputs": [],
   "source": [
    "t.sample(7)._id"
   ]
  },
  {
   "cell_type": "code",
   "execution_count": null,
   "id": "94759283",
   "metadata": {},
   "outputs": [],
   "source": [
    "record = u.loc[u.name==\"fred\"]._id"
   ]
  },
  {
   "cell_type": "code",
   "execution_count": null,
   "id": "9886a2de",
   "metadata": {},
   "outputs": [],
   "source": [
    "record.any()"
   ]
  },
  {
   "cell_type": "code",
   "execution_count": null,
   "id": "69b63494",
   "metadata": {},
   "outputs": [],
   "source": [
    "p"
   ]
  },
  {
   "cell_type": "code",
   "execution_count": null,
   "id": "f26bdee0",
   "metadata": {},
   "outputs": [],
   "source": [
    "p.apply(lambda x: u.loc[u.name==p.userId]._id if u.loc[u.name==p.userId]._id.any else FALSE)"
   ]
  },
  {
   "cell_type": "code",
   "execution_count": null,
   "id": "43216764",
   "metadata": {},
   "outputs": [],
   "source": [
    "pp = p"
   ]
  },
  {
   "cell_type": "code",
   "execution_count": null,
   "id": "4c483b95",
   "metadata": {},
   "outputs": [],
   "source": [
    "p = pp"
   ]
  },
  {
   "cell_type": "code",
   "execution_count": null,
   "id": "c1cf7c41",
   "metadata": {},
   "outputs": [],
   "source": [
    "p.name.apply(lambda x: u.loc[u.name==x][[\"name\", \"_id\"]])"
   ]
  },
  {
   "cell_type": "code",
   "execution_count": null,
   "id": "10aa9ba7",
   "metadata": {},
   "outputs": [],
   "source": [
    "p"
   ]
  },
  {
   "cell_type": "code",
   "execution_count": null,
   "id": "3532cfbb",
   "metadata": {},
   "outputs": [],
   "source": [
    "a"
   ]
  },
  {
   "cell_type": "code",
   "execution_count": null,
   "id": "63bb7096",
   "metadata": {},
   "outputs": [],
   "source": [
    "p.apply(lambda x: x)"
   ]
  },
  {
   "cell_type": "code",
   "execution_count": null,
   "id": "76d9c482",
   "metadata": {},
   "outputs": [],
   "source": []
  }
 ],
 "metadata": {
  "kernelspec": {
   "display_name": "py38",
   "language": "python",
   "name": "py38"
  },
  "language_info": {
   "codemirror_mode": {
    "name": "ipython",
    "version": 3
   },
   "file_extension": ".py",
   "mimetype": "text/x-python",
   "name": "python",
   "nbconvert_exporter": "python",
   "pygments_lexer": "ipython3",
   "version": "3.8.12"
  }
 },
 "nbformat": 4,
 "nbformat_minor": 5
}
