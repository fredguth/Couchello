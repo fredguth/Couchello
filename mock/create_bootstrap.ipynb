{
 "cells": [
  {
   "cell_type": "code",
   "execution_count": 1,
   "id": "0483c900",
   "metadata": {},
   "outputs": [],
   "source": [
    "import pandas as pd\n",
    "import rstr\n",
    "from faker import Faker\n",
    "from faker_e164.providers import E164Provider\n",
    "fake = Faker()\n",
    "fake.add_provider(E164Provider)\n",
    "from datetime import datetime, date\n",
    "import random\n",
    "import hashlib\n",
    "import json"
   ]
  },
  {
   "cell_type": "code",
   "execution_count": 2,
   "id": "fdea6d7b",
   "metadata": {},
   "outputs": [],
   "source": [
    "def hash(name, size=10):\n",
    "    if name is None: return False\n",
    "    return hashlib.md5(name.encode('utf-8')).hexdigest()[:size]"
   ]
  },
  {
   "cell_type": "code",
   "execution_count": 3,
   "id": "1cd59407",
   "metadata": {},
   "outputs": [
    {
     "data": {
      "text/plain": [
       "'be2f01d609'"
      ]
     },
     "execution_count": 3,
     "metadata": {},
     "output_type": "execute_result"
    }
   ],
   "source": [
    "hash(fake.name())"
   ]
  },
  {
   "cell_type": "code",
   "execution_count": 4,
   "id": "c509f675",
   "metadata": {},
   "outputs": [],
   "source": [
    "def genId(prefix=\"\", size=8):\n",
    "    return prefix+''.join( rstr.xeger(r'[A-Z0-9]') for i in range(size))"
   ]
  },
  {
   "cell_type": "code",
   "execution_count": 5,
   "id": "5517f5cc",
   "metadata": {},
   "outputs": [],
   "source": [
    "def initBootstrap():\n",
    "    return  {\n",
    "    \"_config\": {},\n",
    "    \"couchello_db\": {\n",
    "      \"_design\": {},\n",
    "      \"_local\": {},\n",
    "      \"_security\": {\n",
    "        \"members\": {\n",
    "          \"roles\": [],\n",
    "          \"names\": []\n",
    "        },\n",
    "        \"admins\": {\n",
    "          \"roles\": [],\n",
    "          \"names\": []\n",
    "        }\n",
    "        }\n",
    "    },\n",
    "    \"_users\": {}\n",
    "}"
   ]
  },
  {
   "cell_type": "code",
   "execution_count": 6,
   "id": "590c89fc",
   "metadata": {},
   "outputs": [
    {
     "data": {
      "text/plain": [
       "'destiny59@deleon.com'"
      ]
     },
     "execution_count": 6,
     "metadata": {},
     "output_type": "execute_result"
    }
   ],
   "source": [
    "fake.ascii_email()"
   ]
  },
  {
   "cell_type": "code",
   "execution_count": 14,
   "id": "bf2e68ac",
   "metadata": {},
   "outputs": [],
   "source": [
    "def createUsers(data):\n",
    "    u = {}\n",
    "    s = data[\"couchello_db\"][\"_security\"]\n",
    "    g = {\"Admin\": \"admins\", \"Member\": \"members\"}\n",
    "    for i in range(10):\n",
    "        name = fake.name()\n",
    "        user = {}\n",
    "        _id = \"org.couchdb.user:\"+hash(name)\n",
    "        user[\"_id\"] = _id\n",
    "        user[\"type\"] = \"user\"\n",
    "        user[\"password\"] = hash(name)\n",
    "        user[\"roles\"] = []\n",
    "        user[\"name\"] = hash(name)\n",
    "        role = random.choice([\"Admin\", \"Member\"])\n",
    "        s[g[role]][\"names\"].append(hash(name))\n",
    "        u[_id] = user\n",
    "    data[\"couchello_db\"][\"_security\"] = s\n",
    "    data[\"_users\"] = u\n",
    "    return data"
   ]
  },
  {
   "cell_type": "code",
   "execution_count": 11,
   "id": "998bb8a3",
   "metadata": {},
   "outputs": [],
   "source": [
    "def createOrganizations(r, size=1):\n",
    "    r['organizations']={}\n",
    "    for _ in range(size):\n",
    "        n = fake.company() + fake.company_suffix()\n",
    "        _id = hash(n)\n",
    "        db = \"org_\"+_id+\"_db\"\n",
    "        members = []\n",
    "        [members.append(r[\"_users\"][u]['name']) and  r[\"_users\"][u]['roles'].append(db) for u in r[\"_users\"]]\n",
    "        r['organizations']['id'] = {\n",
    "            \"_id\":_id, \n",
    "            \"type\":\"organization\", \n",
    "            \"name\": n, \"db\":db, \"members\":members\n",
    "        }\n",
    "    return r"
   ]
  },
  {
   "cell_type": "code",
   "execution_count": 12,
   "id": "76f95bf2",
   "metadata": {},
   "outputs": [],
   "source": [
    "def createBootstrap():\n",
    "    r = initBootstrap()\n",
    "    r = createUsers(r)\n",
    "    r = createOrganizations(r)\n",
    "    return r"
   ]
  },
  {
   "cell_type": "code",
   "execution_count": 15,
   "id": "594de47c",
   "metadata": {},
   "outputs": [
    {
     "ename": "KeyError",
     "evalue": "'role'",
     "output_type": "error",
     "traceback": [
      "\u001b[0;31m---------------------------------------------------------------------------\u001b[0m",
      "\u001b[0;31mKeyError\u001b[0m                                  Traceback (most recent call last)",
      "\u001b[1;32m/Users/fredguth/Code/couchello/mock/create_bootstrap.ipynb Cell 10'\u001b[0m in \u001b[0;36m<cell line: 1>\u001b[0;34m()\u001b[0m\n\u001b[0;32m----> <a href='vscode-notebook-cell:/Users/fredguth/Code/couchello/mock/create_bootstrap.ipynb#ch0000012?line=0'>1</a>\u001b[0m createBootstrap()\n",
      "\u001b[1;32m/Users/fredguth/Code/couchello/mock/create_bootstrap.ipynb Cell 9'\u001b[0m in \u001b[0;36mcreateBootstrap\u001b[0;34m()\u001b[0m\n\u001b[1;32m      <a href='vscode-notebook-cell:/Users/fredguth/Code/couchello/mock/create_bootstrap.ipynb#ch0000008?line=1'>2</a>\u001b[0m r \u001b[39m=\u001b[39m initBootstrap()\n\u001b[1;32m      <a href='vscode-notebook-cell:/Users/fredguth/Code/couchello/mock/create_bootstrap.ipynb#ch0000008?line=2'>3</a>\u001b[0m r \u001b[39m=\u001b[39m createUsers(r)\n\u001b[0;32m----> <a href='vscode-notebook-cell:/Users/fredguth/Code/couchello/mock/create_bootstrap.ipynb#ch0000008?line=3'>4</a>\u001b[0m r \u001b[39m=\u001b[39m createOrganizations(r)\n\u001b[1;32m      <a href='vscode-notebook-cell:/Users/fredguth/Code/couchello/mock/create_bootstrap.ipynb#ch0000008?line=4'>5</a>\u001b[0m \u001b[39mreturn\u001b[39;00m r\n",
      "\u001b[1;32m/Users/fredguth/Code/couchello/mock/create_bootstrap.ipynb Cell 8'\u001b[0m in \u001b[0;36mcreateOrganizations\u001b[0;34m(r, size)\u001b[0m\n\u001b[1;32m      <a href='vscode-notebook-cell:/Users/fredguth/Code/couchello/mock/create_bootstrap.ipynb#ch0000007?line=7'>8</a>\u001b[0m     [members\u001b[39m.\u001b[39mappend(r[\u001b[39m\"\u001b[39m\u001b[39m_users\u001b[39m\u001b[39m\"\u001b[39m][u][\u001b[39m'\u001b[39m\u001b[39mname\u001b[39m\u001b[39m'\u001b[39m]) \u001b[39mand\u001b[39;00m  r[\u001b[39m\"\u001b[39m\u001b[39m_users\u001b[39m\u001b[39m\"\u001b[39m][u][\u001b[39m'\u001b[39m\u001b[39mrole\u001b[39m\u001b[39m'\u001b[39m]\u001b[39m.\u001b[39mappend(db) \u001b[39mfor\u001b[39;00m u \u001b[39min\u001b[39;00m r[\u001b[39m\"\u001b[39m\u001b[39m_users\u001b[39m\u001b[39m\"\u001b[39m]]\n\u001b[1;32m      <a href='vscode-notebook-cell:/Users/fredguth/Code/couchello/mock/create_bootstrap.ipynb#ch0000007?line=8'>9</a>\u001b[0m     r[\u001b[39m'\u001b[39m\u001b[39morganizations\u001b[39m\u001b[39m'\u001b[39m][\u001b[39m'\u001b[39m\u001b[39mid\u001b[39m\u001b[39m'\u001b[39m] \u001b[39m=\u001b[39m {\n\u001b[1;32m     <a href='vscode-notebook-cell:/Users/fredguth/Code/couchello/mock/create_bootstrap.ipynb#ch0000007?line=9'>10</a>\u001b[0m         \u001b[39m\"\u001b[39m\u001b[39m_id\u001b[39m\u001b[39m\"\u001b[39m:_id, \n\u001b[1;32m     <a href='vscode-notebook-cell:/Users/fredguth/Code/couchello/mock/create_bootstrap.ipynb#ch0000007?line=10'>11</a>\u001b[0m         \u001b[39m\"\u001b[39m\u001b[39mtype\u001b[39m\u001b[39m\"\u001b[39m:\u001b[39m\"\u001b[39m\u001b[39morganization\u001b[39m\u001b[39m\"\u001b[39m, \n\u001b[1;32m     <a href='vscode-notebook-cell:/Users/fredguth/Code/couchello/mock/create_bootstrap.ipynb#ch0000007?line=11'>12</a>\u001b[0m         \u001b[39m\"\u001b[39m\u001b[39mname\u001b[39m\u001b[39m\"\u001b[39m: n, \u001b[39m\"\u001b[39m\u001b[39mdb\u001b[39m\u001b[39m\"\u001b[39m:db, \u001b[39m\"\u001b[39m\u001b[39mmembers\u001b[39m\u001b[39m\"\u001b[39m:members\n\u001b[1;32m     <a href='vscode-notebook-cell:/Users/fredguth/Code/couchello/mock/create_bootstrap.ipynb#ch0000007?line=12'>13</a>\u001b[0m     }\n\u001b[0;32m---> <a href='vscode-notebook-cell:/Users/fredguth/Code/couchello/mock/create_bootstrap.ipynb#ch0000007?line=13'>14</a>\u001b[0m     [r[\u001b[39m\"\u001b[39m\u001b[39m_users\u001b[39m\u001b[39m\"\u001b[39m][u][\u001b[39m'\u001b[39m\u001b[39mrole\u001b[39m\u001b[39m'\u001b[39m]\u001b[39m.\u001b[39mappend(db) \u001b[39mfor\u001b[39;00m u \u001b[39min\u001b[39;00m r[\u001b[39m\"\u001b[39m\u001b[39m_users\u001b[39m\u001b[39m\"\u001b[39m]]\n\u001b[1;32m     <a href='vscode-notebook-cell:/Users/fredguth/Code/couchello/mock/create_bootstrap.ipynb#ch0000007?line=14'>15</a>\u001b[0m \u001b[39mreturn\u001b[39;00m r\n",
      "\u001b[1;32m/Users/fredguth/Code/couchello/mock/create_bootstrap.ipynb Cell 8'\u001b[0m in \u001b[0;36m<listcomp>\u001b[0;34m(.0)\u001b[0m\n\u001b[1;32m      <a href='vscode-notebook-cell:/Users/fredguth/Code/couchello/mock/create_bootstrap.ipynb#ch0000007?line=7'>8</a>\u001b[0m     [members\u001b[39m.\u001b[39mappend(r[\u001b[39m\"\u001b[39m\u001b[39m_users\u001b[39m\u001b[39m\"\u001b[39m][u][\u001b[39m'\u001b[39m\u001b[39mname\u001b[39m\u001b[39m'\u001b[39m]) \u001b[39mand\u001b[39;00m  r[\u001b[39m\"\u001b[39m\u001b[39m_users\u001b[39m\u001b[39m\"\u001b[39m][u][\u001b[39m'\u001b[39m\u001b[39mrole\u001b[39m\u001b[39m'\u001b[39m]\u001b[39m.\u001b[39mappend(db) \u001b[39mfor\u001b[39;00m u \u001b[39min\u001b[39;00m r[\u001b[39m\"\u001b[39m\u001b[39m_users\u001b[39m\u001b[39m\"\u001b[39m]]\n\u001b[1;32m      <a href='vscode-notebook-cell:/Users/fredguth/Code/couchello/mock/create_bootstrap.ipynb#ch0000007?line=8'>9</a>\u001b[0m     r[\u001b[39m'\u001b[39m\u001b[39morganizations\u001b[39m\u001b[39m'\u001b[39m][\u001b[39m'\u001b[39m\u001b[39mid\u001b[39m\u001b[39m'\u001b[39m] \u001b[39m=\u001b[39m {\n\u001b[1;32m     <a href='vscode-notebook-cell:/Users/fredguth/Code/couchello/mock/create_bootstrap.ipynb#ch0000007?line=9'>10</a>\u001b[0m         \u001b[39m\"\u001b[39m\u001b[39m_id\u001b[39m\u001b[39m\"\u001b[39m:_id, \n\u001b[1;32m     <a href='vscode-notebook-cell:/Users/fredguth/Code/couchello/mock/create_bootstrap.ipynb#ch0000007?line=10'>11</a>\u001b[0m         \u001b[39m\"\u001b[39m\u001b[39mtype\u001b[39m\u001b[39m\"\u001b[39m:\u001b[39m\"\u001b[39m\u001b[39morganization\u001b[39m\u001b[39m\"\u001b[39m, \n\u001b[1;32m     <a href='vscode-notebook-cell:/Users/fredguth/Code/couchello/mock/create_bootstrap.ipynb#ch0000007?line=11'>12</a>\u001b[0m         \u001b[39m\"\u001b[39m\u001b[39mname\u001b[39m\u001b[39m\"\u001b[39m: n, \u001b[39m\"\u001b[39m\u001b[39mdb\u001b[39m\u001b[39m\"\u001b[39m:db, \u001b[39m\"\u001b[39m\u001b[39mmembers\u001b[39m\u001b[39m\"\u001b[39m:members\n\u001b[1;32m     <a href='vscode-notebook-cell:/Users/fredguth/Code/couchello/mock/create_bootstrap.ipynb#ch0000007?line=12'>13</a>\u001b[0m     }\n\u001b[0;32m---> <a href='vscode-notebook-cell:/Users/fredguth/Code/couchello/mock/create_bootstrap.ipynb#ch0000007?line=13'>14</a>\u001b[0m     [r[\u001b[39m\"\u001b[39;49m\u001b[39m_users\u001b[39;49m\u001b[39m\"\u001b[39;49m][u][\u001b[39m'\u001b[39;49m\u001b[39mrole\u001b[39;49m\u001b[39m'\u001b[39;49m]\u001b[39m.\u001b[39mappend(db) \u001b[39mfor\u001b[39;00m u \u001b[39min\u001b[39;00m r[\u001b[39m\"\u001b[39m\u001b[39m_users\u001b[39m\u001b[39m\"\u001b[39m]]\n\u001b[1;32m     <a href='vscode-notebook-cell:/Users/fredguth/Code/couchello/mock/create_bootstrap.ipynb#ch0000007?line=14'>15</a>\u001b[0m \u001b[39mreturn\u001b[39;00m r\n",
      "\u001b[0;31mKeyError\u001b[0m: 'role'"
     ]
    }
   ],
   "source": [
    "createBootstrap()"
   ]
  },
  {
   "cell_type": "code",
   "execution_count": null,
   "id": "31521944",
   "metadata": {},
   "outputs": [],
   "source": [
    "with open('bootstrap.header.txt', 'r') as infile:\n",
    "    with open('bootstrap.js', 'w') as outfile:\n",
    "        outfile.write(infile.read()+json.dumps(createBootstrap(), indent=4)+\";\")    "
   ]
  },
  {
   "cell_type": "code",
   "execution_count": null,
   "id": "1473ec9c",
   "metadata": {},
   "outputs": [],
   "source": [
    "with open('bootstrap.js', 'r') as file:\n",
    "    print(file.read())"
   ]
  },
  {
   "cell_type": "code",
   "execution_count": null,
   "id": "76d9c482",
   "metadata": {},
   "outputs": [],
   "source": []
  }
 ],
 "metadata": {
  "interpreter": {
   "hash": "31f2aee4e71d21fbe5cf8b01ff0e069b9275f58929596ceb00d14d90e3e16cd6"
  },
  "kernelspec": {
   "display_name": "py38",
   "language": "python",
   "name": "py38"
  },
  "language_info": {
   "codemirror_mode": {
    "name": "ipython",
    "version": 3
   },
   "file_extension": ".py",
   "mimetype": "text/x-python",
   "name": "python",
   "nbconvert_exporter": "python",
   "pygments_lexer": "ipython3",
   "version": "3.8.12"
  }
 },
 "nbformat": 4,
 "nbformat_minor": 5
}
