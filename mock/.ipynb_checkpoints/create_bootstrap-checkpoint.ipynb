{
 "cells": [
  {
   "cell_type": "code",
   "execution_count": 1,
   "id": "0483c900",
   "metadata": {},
   "outputs": [],
   "source": [
    "import pandas as pd\n",
    "import rstr\n",
    "from faker import Faker\n",
    "from faker_e164.providers import E164Provider\n",
    "fake = Faker()\n",
    "fake.add_provider(E164Provider)\n",
    "from datetime import datetime, date\n",
    "import random\n",
    "import hashlib\n",
    "import json\n",
    "import os"
   ]
  },
  {
   "cell_type": "code",
   "execution_count": null,
   "id": "fdea6d7b",
   "metadata": {},
   "outputs": [],
   "source": [
    "def hash(name, size=10):\n",
    "    if name is None: return False\n",
    "    return hashlib.md5(name.encode('utf-8')).hexdigest()[:size]"
   ]
  },
  {
   "cell_type": "code",
   "execution_count": null,
   "id": "1cd59407",
   "metadata": {},
   "outputs": [],
   "source": [
    "hash(fake.name())"
   ]
  },
  {
   "cell_type": "code",
   "execution_count": null,
   "id": "c509f675",
   "metadata": {},
   "outputs": [],
   "source": [
    "def genId(prefix=\"\", size=8):\n",
    "    return prefix+''.join( rstr.xeger(r'[A-Z0-9]') for i in range(size))"
   ]
  },
  {
   "cell_type": "code",
   "execution_count": null,
   "id": "5517f5cc",
   "metadata": {},
   "outputs": [],
   "source": [
    "def initBootstrap():\n",
    "    return  {\n",
    "    \"_config\": {},\n",
    "    \"couchello_db\": {\n",
    "      \"_design\": {},\n",
    "      \"_local\": {},\n",
    "      \"_security\": {\n",
    "        \"members\": {\n",
    "          \"roles\": [],\n",
    "          \"names\": []\n",
    "        },\n",
    "        \"admins\": {\n",
    "          \"roles\": [],\n",
    "          \"names\": []\n",
    "        }\n",
    "        }\n",
    "    },\n",
    "    \"_users\": {}\n",
    "}"
   ]
  },
  {
   "cell_type": "code",
   "execution_count": 2,
   "id": "590c89fc",
   "metadata": {},
   "outputs": [
    {
     "data": {
      "text/plain": [
       "'alanramirez@yahoo.com'"
      ]
     },
     "execution_count": 2,
     "metadata": {},
     "output_type": "execute_result"
    }
   ],
   "source": [
    "fake.ascii_email()"
   ]
  },
  {
   "cell_type": "code",
   "execution_count": null,
   "id": "bf2e68ac",
   "metadata": {},
   "outputs": [],
   "source": [
    "def createUsers(data):\n",
    "    u = {}\n",
    "    s = data['couchello_db']['_security']\n",
    "    g = {'Admin':'admins', 'Member':'members'}\n",
    "    for i in range(10):\n",
    "        name = fake.ascii_email\n",
    "        _id = hash(name)\n",
    "        user={}\n",
    "        user['_id']= _id\n",
    "        user['type']= 'user'\n",
    "        user['password']=_id\n",
    "        role = random.choice(['Admin', 'Member'])\n",
    "        user['roles']=[role]\n",
    "        user['name']=name\n",
    "        s[g[role]]['names'].append(_id)\n",
    "        u[_id]=user\n",
    "    data['couchello_db']['_security']=s\n",
    "    data['_users']=u\n",
    "    return data"
   ]
  },
  {
   "cell_type": "code",
   "execution_count": null,
   "id": "998bb8a3",
   "metadata": {},
   "outputs": [],
   "source": [
    "def createOrganizations(r, size=1):\n",
    "    r['organizations']={}\n",
    "    for _ in range(size):\n",
    "        n = fake.company() + fake.company_suffix()\n",
    "        _id = hash(n)\n",
    "        db = \"org_\"+_id+\"_db\"\n",
    "        members = [r[\"_users\"][u]['name'] for u in r[\"_users\"]]\n",
    "        r['organizations']['id'] = {\n",
    "            \"_id\":_id, \n",
    "            \"type\":\"organization\", \n",
    "            \"name\": n, \"db\":db, \"members\":members\n",
    "        }\n",
    "    return r"
   ]
  },
  {
   "cell_type": "code",
   "execution_count": null,
   "id": "76f95bf2",
   "metadata": {},
   "outputs": [],
   "source": [
    "def createBootstrap():\n",
    "    r = initBootstrap()\n",
    "    r = createUsers(r)\n",
    "    r = createOrganizations(r)\n",
    "    return r"
   ]
  },
  {
   "cell_type": "code",
   "execution_count": null,
   "id": "31521944",
   "metadata": {},
   "outputs": [],
   "source": [
    "with open('bootstrap.header.txt', 'r') as infile:\n",
    "    with open('bootstrap.js', 'w') as outfile:\n",
    "        outfile.write(infile.read()+json.dumps(createBootstrap(), indent=4)+\";\")    "
   ]
  },
  {
   "cell_type": "code",
   "execution_count": null,
   "id": "1473ec9c",
   "metadata": {},
   "outputs": [],
   "source": [
    "with open('bootstrap.js', 'r') as file:\n",
    "    print(file.read())"
   ]
  },
  {
   "cell_type": "code",
   "execution_count": null,
   "id": "76d9c482",
   "metadata": {},
   "outputs": [],
   "source": []
  }
 ],
 "metadata": {
  "interpreter": {
   "hash": "59f3145cc67fcda0343c2852f1f97113a2e6e98841e887156424448e7071ad54"
  },
  "kernelspec": {
   "display_name": "py38",
   "language": "python",
   "name": "py38"
  },
  "language_info": {
   "codemirror_mode": {
    "name": "ipython",
    "version": 3
   },
   "file_extension": ".py",
   "mimetype": "text/x-python",
   "name": "python",
   "nbconvert_exporter": "python",
   "pygments_lexer": "ipython3",
   "version": "3.8.12"
  }
 },
 "nbformat": 4,
 "nbformat_minor": 5
}
